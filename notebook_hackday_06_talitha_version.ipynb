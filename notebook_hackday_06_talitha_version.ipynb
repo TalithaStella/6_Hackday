{
 "cells": [
  {
   "cell_type": "markdown",
   "id": "23e57af8",
   "metadata": {},
   "source": [
    "# Imports"
   ]
  },
  {
   "cell_type": "code",
   "execution_count": 117,
   "id": "403b1b50",
   "metadata": {
    "ExecuteTime": {
     "end_time": "2023-10-22T18:47:16.800448Z",
     "start_time": "2023-10-22T18:47:16.748404Z"
    }
   },
   "outputs": [],
   "source": [
    "import pandas as pd\n",
    "import numpy as np\n",
    "import json\n",
    "import datetime\n",
    "import ast\n",
    "import seaborn as sns\n",
    "import dtale\n",
    "\n",
    "\n",
    "from sklearn import preprocessing as pp\n",
    "import pickle\n",
    "\n",
    "from sklearn import model_selection as ms\n",
    "import category_encoders as ce\n",
    "\n",
    "#from boruta   import BorutaPy\n",
    "from lightgbm import LGBMClassifier\n",
    "\n",
    "from sklearn.ensemble        import RandomForestClassifier, BaggingClassifier, GradientBoostingClassifier\n",
    "from xgboost                 import XGBRegressor\n",
    "from sklearn.linear_model    import LogisticRegression, SGDRegressor\n",
    "from sklearn.neighbors       import KNeighborsRegressor\n",
    "from sklearn.tree            import DecisionTreeRegressor\n",
    "from sklearn.ensemble        import RandomForestRegressor, BaggingRegressor\n",
    "from sklearn.metrics         import accuracy_score, recall_score, precision_score, balanced_accuracy_score, f1_score, roc_curve, confusion_matrix\n",
    "from sklearn.model_selection import GridSearchCV, RandomizedSearchCV\n",
    "from sklearn.naive_bayes     import GaussianNB\n",
    "from lightgbm                import LGBMRegressor"
   ]
  },
  {
   "cell_type": "markdown",
   "id": "3f2f5333",
   "metadata": {},
   "source": [
    "## Helper Functions"
   ]
  },
  {
   "cell_type": "code",
   "execution_count": 118,
   "id": "a50c83a9",
   "metadata": {
    "ExecuteTime": {
     "end_time": "2023-10-22T18:47:17.109085Z",
     "start_time": "2023-10-22T18:47:17.001637Z"
    }
   },
   "outputs": [],
   "source": [
    "# Função para fazer todas as preparações no teste\n",
    "def test_preparation(X_test, y_test):\n",
    "    X_test = rescalling(X_test)\n",
    "    X_test = transform(X_test)\n",
    "    y_test = log_var_resposta(y_test)\n",
    "    \n",
    "    return X_test, y_test\n",
    "\n",
    "# Função de preparação\n",
    "def rescalling (X_test):\n",
    "    \n",
    "    mm = pickle.load(open('parameters/mm_avg_delivery_time_days.pkl','rb'))\n",
    "    X_test['avg_delivery_time_days'] = mm.transform(X_test[['avg_delivery_time_days']])\n",
    "    \n",
    "    rs_ar = pickle.load(open('parameters/rs_average_rating.pkl','rb'))\n",
    "    \n",
    "    X_test['average_rating'] = rs_ar.transform(X_test[['average_rating']])\n",
    "    \n",
    "    rs_nr = pickle.load(open('parameters/rs_number_of_reviews.pkl','rb'))\n",
    "    \n",
    "    X_test['number_of_reviews'] = rs_nr.transform(X_test[['number_of_reviews']])\n",
    "    \n",
    "    return X_test\n",
    "\n",
    "\n",
    "\n",
    "# Função de preparação\n",
    "def transform (df):\n",
    "    \n",
    "    for att in ['Ideal For', 'Reversible', 'Suitable For', 'seller', 'product', 'Type', 'Sleeve', 'Fit', 'Fabric']:\n",
    "        te = pickle.load(open(f'parameters/te_{att}.pkl','rb'))\n",
    "        df = te.transform(df)        \n",
    "    \n",
    "    for att in ['brand','Style Code','Pack of', 'Pattern']:\n",
    "        fe = pickle.load(open(f'parameters/fe_{att}.pkl', 'rb'))\n",
    "        df = fe.transform(df)\n",
    "    \n",
    "    return df\n",
    "\n",
    "\n",
    "# Colocar a variável resposta como log (precisa mesmo de uma funçao pra isso???)\n",
    "def log_var_resposta(df):\n",
    "    df = np.log1p(df)\n",
    "\n",
    "    return df\n",
    "\n",
    "\n",
    "\n",
    "def limpeza (df):\n",
    "    df = df.drop(columns=['_id', 'pid','description', 'images'])\n",
    "    # transformando de string para data\n",
    "    df['crawled_at'] = pd.to_datetime(df['crawled_at']).dt.date\n",
    "\n",
    "    return df\n",
    "\n",
    "\n",
    "# Mds, meu senhor, me ajuda, pf\n",
    "\n",
    "def feature_engen(df):\n",
    "    ## out_of_stock - transformar para int \n",
    "    df['out_of_stock'] = df['out_of_stock'].astype('int64')\n",
    "\n",
    "    # brand - substituir por outros\n",
    "    df['brand'] = df['brand'].apply(lambda x: x.lower())\n",
    "\n",
    "    # criando feature product\n",
    "    df['product'] = df[['category', 'sub_category']].apply(lambda x: x['category'] + '_' + x['sub_category'], axis = 1)\n",
    "    \n",
    "    df.loc[df['number_of_reviews'] == 0, 'average_rating'] = -1\n",
    "    \n",
    "    import ast\n",
    "\n",
    "    # pega string de dict e cria uma lista de dicionários\n",
    "    def f(x):\n",
    "        try:\n",
    "            return ast.literal_eval(str(x))   \n",
    "        except Exception as e:\n",
    "            print(e)\n",
    "            return []\n",
    "\n",
    "\n",
    "\n",
    "    def junta_dict(dict_list):\n",
    "        dicionario = {}\n",
    "        for d in dict_list:\n",
    "            for key, value in d.items():\n",
    "                dicionario[key] = value\n",
    "        return dicionario\n",
    "\n",
    "    list = df['product_details'].apply(lambda x: f(x))\n",
    "\n",
    "    df_details = pd.DataFrame([junta_dict(row) for row in list], index = list.index)\n",
    "\n",
    "    df_drop_columns = df_details.drop(columns=['', ' '])\n",
    "\n",
    "    # Removendo valores faltantes acima de 50%\n",
    "    limite_nulos = len(df_details) * 0.5  \n",
    "    df_drop = df_details.dropna(thresh = limite_nulos, axis=1)\n",
    "    df_new = df_drop.copy()\n",
    "\n",
    "    # Trocar os NaN por 'outros'\n",
    "\n",
    "    df_new.loc[df_new['Fabric'].isnull(), 'Fabric'] = 'outros'\n",
    "    df_new.loc[df_new['Pattern'].isnull(), 'Pattern'] = 'outros'\n",
    "    df_new.loc[df_new['Style Code'].isnull(), 'Style Code'] = 'outros'\n",
    "    df_new.loc[df_new['Pack of'].isnull(), 'Pack of'] = 'outros'\n",
    "    df_new.loc[df_new['Type'].isnull(), 'Type'] = 'outros'\n",
    "    df_new.loc[df_new['Sleeve'].isnull(), 'Sleeve'] = 'outros'\n",
    "    df_new.loc[df_new['Fit'].isnull(), 'Fit'] = 'outros'\n",
    "    df_new.loc[df_new['Ideal For'].isnull(), 'Ideal For'] = 'outros'\n",
    "    df_new.loc[df_new['Suitable For'].isnull(), 'Suitable For'] = 'outros'\n",
    "    df_new.loc[df_new['Reversible'].isnull(), 'Reversible'] = 'outros'\n",
    "    df_new.loc[df_new['Fabric Care'].isnull(), 'Fabric Care'] = 'outros'\n",
    "\n",
    "    df_new.head()\n",
    "\n",
    "    def type_sex(value):\n",
    "        if value == 'Men':\n",
    "            return 'Men'\n",
    "        elif value == 'Men, Boys':\n",
    "            return 'all_ages'\n",
    "        elif value == 'Boys, Men':\n",
    "            return 'all_ages'\n",
    "        elif value == 'Boys, Girls, Men, Women':\n",
    "            return 'unisex_all_ages'\n",
    "        elif value == 'Women, Men':\n",
    "            return 'Unisex'\n",
    "        else:\n",
    "            return 'outros'\n",
    "\n",
    "    df_new['Ideal For'] = df_new['Ideal For'].map(type_sex)\n",
    "\n",
    "    df = pd.concat([df, df_new], axis=1)\n",
    "    \n",
    "    df['cotton'] = df['Fabric'].apply(lambda x: 1 if 'cotton' in x.lower() else 0)\n",
    "    df['poly'] = df['Fabric'].apply(lambda x: 1 if 'poly' in x.lower() else 0)\n",
    "    df['not_cotton_or_poly'] = df['Fabric'].apply(lambda x: 1 if ('poly' not in x.lower()) and ('cotton' not in x.lower()) else 0)\n",
    "    \n",
    "    return df"
   ]
  },
  {
   "cell_type": "markdown",
   "id": "1c83d907",
   "metadata": {},
   "source": [
    "# Load Data"
   ]
  },
  {
   "cell_type": "code",
   "execution_count": 119,
   "id": "d0d2e3d5",
   "metadata": {
    "ExecuteTime": {
     "end_time": "2023-10-22T18:47:18.848491Z",
     "start_time": "2023-10-22T18:47:17.196221Z"
    }
   },
   "outputs": [
    {
     "data": {
      "text/html": [
       "<div>\n",
       "<style scoped>\n",
       "    .dataframe tbody tr th:only-of-type {\n",
       "        vertical-align: middle;\n",
       "    }\n",
       "\n",
       "    .dataframe tbody tr th {\n",
       "        vertical-align: top;\n",
       "    }\n",
       "\n",
       "    .dataframe thead th {\n",
       "        text-align: right;\n",
       "    }\n",
       "</style>\n",
       "<table border=\"1\" class=\"dataframe\">\n",
       "  <thead>\n",
       "    <tr style=\"text-align: right;\">\n",
       "      <th></th>\n",
       "      <th>_id</th>\n",
       "      <th>average_rating</th>\n",
       "      <th>number_of_reviews</th>\n",
       "      <th>brand</th>\n",
       "      <th>category</th>\n",
       "      <th>crawled_at</th>\n",
       "      <th>description</th>\n",
       "      <th>images</th>\n",
       "      <th>out_of_stock</th>\n",
       "      <th>avg_delivery_time_days</th>\n",
       "      <th>pid</th>\n",
       "      <th>product_details</th>\n",
       "      <th>seller</th>\n",
       "      <th>sub_category</th>\n",
       "      <th>fabrication_time</th>\n",
       "      <th>title</th>\n",
       "      <th>actual_price</th>\n",
       "    </tr>\n",
       "  </thead>\n",
       "  <tbody>\n",
       "    <tr>\n",
       "      <th>0</th>\n",
       "      <td>53df9662-e500-569c-946e-0c8d215a72cd</td>\n",
       "      <td>3.2</td>\n",
       "      <td>26</td>\n",
       "      <td>East I</td>\n",
       "      <td>Clothing and Accessories</td>\n",
       "      <td>2021-02-10 21:17:28</td>\n",
       "      <td>Navy Blue Printed Boxers Has  An Inner  Elasti...</td>\n",
       "      <td>['https://rukminim1.flixcart.com/image/128/128...</td>\n",
       "      <td>False</td>\n",
       "      <td>8</td>\n",
       "      <td>BXRFTZF7JGX75DAW</td>\n",
       "      <td>[{'Color': 'Dark Blue'}, {'Fabric': 'Pure Cott...</td>\n",
       "      <td>ZIYAA</td>\n",
       "      <td>Innerwear and Swimwear</td>\n",
       "      <td>653</td>\n",
       "      <td>Printed Men Boxer  (Pack of 1)</td>\n",
       "      <td>849.0</td>\n",
       "    </tr>\n",
       "    <tr>\n",
       "      <th>1</th>\n",
       "      <td>d0142842-84f7-537d-a06f-d85b76488a5f</td>\n",
       "      <td>4.0</td>\n",
       "      <td>33</td>\n",
       "      <td>dream o</td>\n",
       "      <td>Clothing and Accessories</td>\n",
       "      <td>2021-02-11 01:02:46</td>\n",
       "      <td>smiley printed tshirt on round neck cotton tshirt</td>\n",
       "      <td>['https://rukminim1.flixcart.com/image/128/128...</td>\n",
       "      <td>False</td>\n",
       "      <td>12</td>\n",
       "      <td>TSHFWQM96UHR6A4Q</td>\n",
       "      <td>[{'Type': 'Round Neck'}, {'Sleeve': 'Short Sle...</td>\n",
       "      <td>Dream Onn Creations</td>\n",
       "      <td>Topwear</td>\n",
       "      <td>668</td>\n",
       "      <td>Printed Men Round Neck Orange T-Shirt</td>\n",
       "      <td>699.0</td>\n",
       "    </tr>\n",
       "    <tr>\n",
       "      <th>2</th>\n",
       "      <td>79c8f0d7-30b1-5dd4-9f2f-2fe97782b027</td>\n",
       "      <td>3.9</td>\n",
       "      <td>32</td>\n",
       "      <td>Free Authori</td>\n",
       "      <td>Clothing and Accessories</td>\n",
       "      <td>2021-02-11 00:43:37</td>\n",
       "      <td>Free Authority Presents this Crew Neck Yellow ...</td>\n",
       "      <td>['https://rukminim1.flixcart.com/image/128/128...</td>\n",
       "      <td>False</td>\n",
       "      <td>11</td>\n",
       "      <td>SWSFWCXH2WF6ZYRB</td>\n",
       "      <td>[{'Color': 'Yellow'}, {'Fabric': 'Polycotton'}...</td>\n",
       "      <td>BioworldMerchandising</td>\n",
       "      <td>Winter Wear</td>\n",
       "      <td>53</td>\n",
       "      <td>Full Sleeve Graphic Print Men Sweatshirt</td>\n",
       "      <td>1499.0</td>\n",
       "    </tr>\n",
       "    <tr>\n",
       "      <th>3</th>\n",
       "      <td>0531c28c-7c50-5fbd-9ce3-a7cae3243ad5</td>\n",
       "      <td>3.8</td>\n",
       "      <td>31</td>\n",
       "      <td>HUMBE</td>\n",
       "      <td>Clothing and Accessories</td>\n",
       "      <td>2021-02-10 21:22:10</td>\n",
       "      <td>Cotton Blend FabricCollar / Polo Neck White &amp; ...</td>\n",
       "      <td>['https://rukminim1.flixcart.com/image/128/128...</td>\n",
       "      <td>False</td>\n",
       "      <td>11</td>\n",
       "      <td>TSHFHQH3HKDAGGK9</td>\n",
       "      <td>[{'Type': 'Polo Neck'}, {'Sleeve': 'Short Slee...</td>\n",
       "      <td>HUMBERT</td>\n",
       "      <td>Topwear</td>\n",
       "      <td>510</td>\n",
       "      <td>Solid Men Polo Neck Light Blue, White T-Shirt ...</td>\n",
       "      <td>1699.0</td>\n",
       "    </tr>\n",
       "    <tr>\n",
       "      <th>4</th>\n",
       "      <td>d604baad-472e-5c18-86a3-7b46d4a890c2</td>\n",
       "      <td>2.4</td>\n",
       "      <td>20</td>\n",
       "      <td>Rose We</td>\n",
       "      <td>Clothing and Accessories</td>\n",
       "      <td>2021-02-10 23:36:36</td>\n",
       "      <td>undefined</td>\n",
       "      <td>['https://rukminim1.flixcart.com/image/128/128...</td>\n",
       "      <td>False</td>\n",
       "      <td>5</td>\n",
       "      <td>TSHFW9CJZSYUU6UX</td>\n",
       "      <td>[{'Type': 'Round Neck'}, {'Sleeve': 'Short Sle...</td>\n",
       "      <td>Rupalcollectionjaipur</td>\n",
       "      <td>Topwear</td>\n",
       "      <td>496</td>\n",
       "      <td>Printed Men Round Neck White T-Shirt</td>\n",
       "      <td>599.0</td>\n",
       "    </tr>\n",
       "  </tbody>\n",
       "</table>\n",
       "</div>"
      ],
      "text/plain": [
       "                                    _id  average_rating  number_of_reviews  \\\n",
       "0  53df9662-e500-569c-946e-0c8d215a72cd             3.2                 26   \n",
       "1  d0142842-84f7-537d-a06f-d85b76488a5f             4.0                 33   \n",
       "2  79c8f0d7-30b1-5dd4-9f2f-2fe97782b027             3.9                 32   \n",
       "3  0531c28c-7c50-5fbd-9ce3-a7cae3243ad5             3.8                 31   \n",
       "4  d604baad-472e-5c18-86a3-7b46d4a890c2             2.4                 20   \n",
       "\n",
       "          brand                  category           crawled_at  \\\n",
       "0        East I  Clothing and Accessories  2021-02-10 21:17:28   \n",
       "1       dream o  Clothing and Accessories  2021-02-11 01:02:46   \n",
       "2  Free Authori  Clothing and Accessories  2021-02-11 00:43:37   \n",
       "3         HUMBE  Clothing and Accessories  2021-02-10 21:22:10   \n",
       "4       Rose We  Clothing and Accessories  2021-02-10 23:36:36   \n",
       "\n",
       "                                         description  \\\n",
       "0  Navy Blue Printed Boxers Has  An Inner  Elasti...   \n",
       "1  smiley printed tshirt on round neck cotton tshirt   \n",
       "2  Free Authority Presents this Crew Neck Yellow ...   \n",
       "3  Cotton Blend FabricCollar / Polo Neck White & ...   \n",
       "4                                          undefined   \n",
       "\n",
       "                                              images  out_of_stock  \\\n",
       "0  ['https://rukminim1.flixcart.com/image/128/128...         False   \n",
       "1  ['https://rukminim1.flixcart.com/image/128/128...         False   \n",
       "2  ['https://rukminim1.flixcart.com/image/128/128...         False   \n",
       "3  ['https://rukminim1.flixcart.com/image/128/128...         False   \n",
       "4  ['https://rukminim1.flixcart.com/image/128/128...         False   \n",
       "\n",
       "   avg_delivery_time_days               pid  \\\n",
       "0                       8  BXRFTZF7JGX75DAW   \n",
       "1                      12  TSHFWQM96UHR6A4Q   \n",
       "2                      11  SWSFWCXH2WF6ZYRB   \n",
       "3                      11  TSHFHQH3HKDAGGK9   \n",
       "4                       5  TSHFW9CJZSYUU6UX   \n",
       "\n",
       "                                     product_details                 seller  \\\n",
       "0  [{'Color': 'Dark Blue'}, {'Fabric': 'Pure Cott...                  ZIYAA   \n",
       "1  [{'Type': 'Round Neck'}, {'Sleeve': 'Short Sle...    Dream Onn Creations   \n",
       "2  [{'Color': 'Yellow'}, {'Fabric': 'Polycotton'}...  BioworldMerchandising   \n",
       "3  [{'Type': 'Polo Neck'}, {'Sleeve': 'Short Slee...                HUMBERT   \n",
       "4  [{'Type': 'Round Neck'}, {'Sleeve': 'Short Sle...  Rupalcollectionjaipur   \n",
       "\n",
       "             sub_category  fabrication_time  \\\n",
       "0  Innerwear and Swimwear               653   \n",
       "1                 Topwear               668   \n",
       "2             Winter Wear                53   \n",
       "3                 Topwear               510   \n",
       "4                 Topwear               496   \n",
       "\n",
       "                                               title  actual_price  \n",
       "0                     Printed Men Boxer  (Pack of 1)         849.0  \n",
       "1              Printed Men Round Neck Orange T-Shirt         699.0  \n",
       "2           Full Sleeve Graphic Print Men Sweatshirt        1499.0  \n",
       "3  Solid Men Polo Neck Light Blue, White T-Shirt ...        1699.0  \n",
       "4               Printed Men Round Neck White T-Shirt         599.0  "
      ]
     },
     "execution_count": 119,
     "metadata": {},
     "output_type": "execute_result"
    }
   ],
   "source": [
    "# Opening JSON file\n",
    "train = open('dataset/raw/train.json')\n",
    " \n",
    "# returns JSON object as \n",
    "# a dictionary\n",
    "data_train_aux = json.load(train)\n",
    "\n",
    "data_train = pd.json_normalize(data_train_aux, record_path = 'data')\n",
    "data_train.columns = data_train_aux['columns']\n",
    "data_train.head()"
   ]
  },
  {
   "cell_type": "markdown",
   "id": "0ea9e857",
   "metadata": {},
   "source": [
    "# Data Description"
   ]
  },
  {
   "cell_type": "code",
   "execution_count": 120,
   "id": "343e4620",
   "metadata": {
    "ExecuteTime": {
     "end_time": "2023-10-22T18:47:18.879689Z",
     "start_time": "2023-10-22T18:47:18.863464Z"
    }
   },
   "outputs": [],
   "source": [
    "# retirar descrição\n",
    "# retirar imagem\n",
    "# verificar ids duplicados em id produto\n",
    "# Verificar outliers no price"
   ]
  },
  {
   "cell_type": "markdown",
   "id": "8616ae01",
   "metadata": {},
   "source": [
    "## Removendo colunas"
   ]
  },
  {
   "cell_type": "code",
   "execution_count": 121,
   "id": "4cf08145",
   "metadata": {
    "ExecuteTime": {
     "end_time": "2023-10-22T18:47:18.926502Z",
     "start_time": "2023-10-22T18:47:18.887910Z"
    }
   },
   "outputs": [],
   "source": [
    "data_train = data_train.drop(columns=['description', 'images'])"
   ]
  },
  {
   "cell_type": "markdown",
   "id": "625226f3",
   "metadata": {},
   "source": [
    "## Transformando tipo de dados"
   ]
  },
  {
   "cell_type": "code",
   "execution_count": 122,
   "id": "1ad79624",
   "metadata": {
    "ExecuteTime": {
     "end_time": "2023-10-22T18:47:18.956642Z",
     "start_time": "2023-10-22T18:47:18.937214Z"
    }
   },
   "outputs": [
    {
     "data": {
      "text/plain": [
       "_id                        object\n",
       "average_rating            float64\n",
       "number_of_reviews           int64\n",
       "brand                      object\n",
       "category                   object\n",
       "crawled_at                 object\n",
       "out_of_stock                 bool\n",
       "avg_delivery_time_days      int64\n",
       "pid                        object\n",
       "product_details            object\n",
       "seller                     object\n",
       "sub_category               object\n",
       "fabrication_time            int64\n",
       "title                      object\n",
       "actual_price              float64\n",
       "dtype: object"
      ]
     },
     "execution_count": 122,
     "metadata": {},
     "output_type": "execute_result"
    }
   ],
   "source": [
    "data_train.dtypes"
   ]
  },
  {
   "cell_type": "code",
   "execution_count": 123,
   "id": "0072097b",
   "metadata": {
    "ExecuteTime": {
     "end_time": "2023-10-22T18:47:19.156696Z",
     "start_time": "2023-10-22T18:47:18.991856Z"
    }
   },
   "outputs": [],
   "source": [
    "# transformando de string para data\n",
    "data_train['crawled_at'] = pd.to_datetime(data_train['crawled_at']).dt.date"
   ]
  },
  {
   "cell_type": "markdown",
   "id": "cdb9369e",
   "metadata": {},
   "source": [
    "## Tratando valores nulos"
   ]
  },
  {
   "cell_type": "code",
   "execution_count": 124,
   "id": "1c041d78",
   "metadata": {
    "ExecuteTime": {
     "end_time": "2023-10-22T18:47:19.339567Z",
     "start_time": "2023-10-22T18:47:19.161191Z"
    }
   },
   "outputs": [
    {
     "data": {
      "text/plain": [
       "_id                       0.000000\n",
       "average_rating            0.000000\n",
       "number_of_reviews         0.000000\n",
       "brand                     0.000000\n",
       "category                  0.000000\n",
       "crawled_at                0.000000\n",
       "out_of_stock              0.000000\n",
       "avg_delivery_time_days    0.000000\n",
       "pid                       0.000000\n",
       "product_details           0.000000\n",
       "seller                    0.000000\n",
       "sub_category              0.000000\n",
       "fabrication_time          0.000000\n",
       "title                     0.000000\n",
       "actual_price              0.149985\n",
       "dtype: float64"
      ]
     },
     "execution_count": 124,
     "metadata": {},
     "output_type": "execute_result"
    }
   ],
   "source": [
    "data_train.isna().sum()/data_train.shape[0]"
   ]
  },
  {
   "cell_type": "code",
   "execution_count": 125,
   "id": "26f84127",
   "metadata": {
    "ExecuteTime": {
     "end_time": "2023-10-22T18:47:28.372711Z",
     "start_time": "2023-10-22T18:47:19.344076Z"
    }
   },
   "outputs": [],
   "source": [
    "## Tratando variaveis respostas nulas\n",
    "prices = data_train[['seller','pid', 'actual_price']].groupby('pid').max().reset_index()\n",
    "\n",
    "precos_nulos = data_train.loc[data_train['actual_price'].isna(), ['_id','pid']]\n",
    "\n",
    "precos_recuperados = pd.merge(precos_nulos, prices, how = 'inner', on = 'pid')\n",
    "\n",
    "data_train_aux = pd.merge(data_train, precos_recuperados[['_id', 'actual_price']], on = '_id', how = 'left')\n",
    "data_train_aux['actual_price'] = data_train_aux[['actual_price_x', 'actual_price_y']].apply(lambda x: x['actual_price_x'] if x['actual_price_x'] > 0 else x['actual_price_y'], axis=1)\n",
    "data_train['actual_price'] = data_train_aux['actual_price']\n",
    "\n",
    "# data_train = data_train.dropna(subset=['actual_price'])\n",
    "\n",
    "# data_train = data_train.loc[data_train['actual_price'] <= 8000]"
   ]
  },
  {
   "cell_type": "code",
   "execution_count": 126,
   "id": "5a54e630",
   "metadata": {
    "ExecuteTime": {
     "end_time": "2023-10-22T18:47:28.525173Z",
     "start_time": "2023-10-22T18:47:28.378302Z"
    },
    "scrolled": true
   },
   "outputs": [
    {
     "data": {
      "text/plain": [
       "_id                       0.000000\n",
       "average_rating            0.000000\n",
       "number_of_reviews         0.000000\n",
       "brand                     0.000000\n",
       "category                  0.000000\n",
       "crawled_at                0.000000\n",
       "out_of_stock              0.000000\n",
       "avg_delivery_time_days    0.000000\n",
       "pid                       0.000000\n",
       "product_details           0.000000\n",
       "seller                    0.000000\n",
       "sub_category              0.000000\n",
       "fabrication_time          0.000000\n",
       "title                     0.000000\n",
       "actual_price              0.139002\n",
       "dtype: float64"
      ]
     },
     "execution_count": 126,
     "metadata": {},
     "output_type": "execute_result"
    }
   ],
   "source": [
    "data_train.isna().sum()/data_train.shape[0]"
   ]
  },
  {
   "cell_type": "markdown",
   "id": "1a3a83f2",
   "metadata": {},
   "source": [
    "# Feature Engineering"
   ]
  },
  {
   "cell_type": "code",
   "execution_count": 127,
   "id": "cf0764da",
   "metadata": {
    "ExecuteTime": {
     "end_time": "2023-10-22T18:47:47.624195Z",
     "start_time": "2023-10-22T18:47:47.504645Z"
    }
   },
   "outputs": [],
   "source": [
    "df4 = data_train.copy()"
   ]
  },
  {
   "cell_type": "code",
   "execution_count": 128,
   "id": "02173cbd",
   "metadata": {
    "ExecuteTime": {
     "end_time": "2023-10-22T18:47:49.460375Z",
     "start_time": "2023-10-22T18:47:47.643364Z"
    }
   },
   "outputs": [],
   "source": [
    "## out_of_stock - transformar para int \n",
    "df4['out_of_stock'] = df4['out_of_stock'].astype('int64')\n",
    "\n",
    "# brand - substituir por outros\n",
    "df4['brand'] = df4['brand'].apply(lambda x: x.lower())\n",
    "\n",
    "# criando feature product\n",
    "df4['product'] = df4[['category', 'sub_category']].apply(lambda x: x['category'] + '_' + x['sub_category'], axis = 1)\n",
    "\n",
    "df4.loc[df4['number_of_reviews'] == 0, 'average_rating'] = -1"
   ]
  },
  {
   "cell_type": "markdown",
   "id": "f8e8fae6",
   "metadata": {},
   "source": [
    "## Entendendo product Details"
   ]
  },
  {
   "cell_type": "code",
   "execution_count": 129,
   "id": "a808e599",
   "metadata": {
    "ExecuteTime": {
     "end_time": "2023-10-22T18:47:58.490706Z",
     "start_time": "2023-10-22T18:47:49.464617Z"
    }
   },
   "outputs": [],
   "source": [
    "import ast\n",
    "\n",
    "# pega string de dict e cria uma lista de dicionários\n",
    "def f(x):\n",
    "    try:\n",
    "        return ast.literal_eval(str(x))   \n",
    "    except Exception as e:\n",
    "        print(e)\n",
    "        return []\n",
    "\n",
    "\n",
    "\n",
    "def junta_dict(dict_list):\n",
    "    dicionario = {}\n",
    "    for d in dict_list:\n",
    "        for key, value in d.items():\n",
    "            dicionario[key] = value\n",
    "    return dicionario\n",
    "\n",
    "list = df4['product_details'].apply(lambda x: f(x))\n",
    "\n",
    "df_details = pd.DataFrame([junta_dict(row) for row in list], index = list.index)\n",
    "\n",
    "df_drop_columns = df_details.drop(columns=['', ' '])\n",
    "\n",
    "# Removendo valores faltantes acima de 50%\n",
    "limite_nulos = len(df_details) * 0.5  \n",
    "df_drop = df_details.dropna(thresh = limite_nulos, axis=1)\n",
    "df_new = df_drop.copy()\n",
    "\n",
    "# Trocar os NaN por 'outros'\n",
    "\n",
    "df_new.loc[df_new['Fabric'].isnull(), 'Fabric'] = 'outros'\n",
    "df_new.loc[df_new['Pattern'].isnull(), 'Pattern'] = 'outros'\n",
    "df_new.loc[df_new['Style Code'].isnull(), 'Style Code'] = 'outros'\n",
    "df_new.loc[df_new['Pack of'].isnull(), 'Pack of'] = 'outros'\n",
    "df_new.loc[df_new['Type'].isnull(), 'Type'] = 'outros'\n",
    "df_new.loc[df_new['Sleeve'].isnull(), 'Sleeve'] = 'outros'\n",
    "df_new.loc[df_new['Fit'].isnull(), 'Fit'] = 'outros'\n",
    "df_new.loc[df_new['Ideal For'].isnull(), 'Ideal For'] = 'outros'\n",
    "df_new.loc[df_new['Suitable For'].isnull(), 'Suitable For'] = 'outros'\n",
    "df_new.loc[df_new['Reversible'].isnull(), 'Reversible'] = 'outros'\n",
    "df_new.loc[df_new['Fabric Care'].isnull(), 'Fabric Care'] = 'outros'\n",
    "\n",
    "df_new.head()\n",
    "\n",
    "def type_sex(value):\n",
    "    if value == 'Men':\n",
    "        return 'Men'\n",
    "    elif value == 'Men, Boys':\n",
    "        return 'all_ages'\n",
    "    elif value == 'Boys, Men':\n",
    "        return 'all_ages'\n",
    "    elif value == 'Boys, Girls, Men, Women':\n",
    "        return 'unisex_all_ages'\n",
    "    elif value == 'Women, Men':\n",
    "        return 'Unisex'\n",
    "    else:\n",
    "        return 'outros'\n",
    "\n",
    "df_new['Ideal For'] = df_new['Ideal For'].map(type_sex)\n",
    "\n",
    "df4 = pd.concat([df4, df_new], axis=1)\n",
    "\n",
    "# Novas Features de roupa\n",
    "\n",
    "df4['cotton'] = df4['Fabric'].apply(lambda x: 1 if 'cotton' in x.lower() else 0)\n",
    "df4['poly'] = df4['Fabric'].apply(lambda x: 1 if 'poly' in x.lower() else 0)\n",
    "df4['not_cotton_or_poly'] = df4['Fabric'].apply(lambda x: 1 if ('poly' not in x.lower()) and ('cotton' not in x.lower()) else 0)\n",
    "df4 = df4.drop( ['product_details'], axis=1 )"
   ]
  },
  {
   "cell_type": "code",
   "execution_count": 130,
   "id": "6001499b",
   "metadata": {},
   "outputs": [
    {
     "data": {
      "text/html": [
       "<div>\n",
       "<style scoped>\n",
       "    .dataframe tbody tr th:only-of-type {\n",
       "        vertical-align: middle;\n",
       "    }\n",
       "\n",
       "    .dataframe tbody tr th {\n",
       "        vertical-align: top;\n",
       "    }\n",
       "\n",
       "    .dataframe thead th {\n",
       "        text-align: right;\n",
       "    }\n",
       "</style>\n",
       "<table border=\"1\" class=\"dataframe\">\n",
       "  <thead>\n",
       "    <tr style=\"text-align: right;\">\n",
       "      <th></th>\n",
       "      <th>_id</th>\n",
       "      <th>average_rating</th>\n",
       "      <th>number_of_reviews</th>\n",
       "      <th>brand</th>\n",
       "      <th>category</th>\n",
       "      <th>crawled_at</th>\n",
       "      <th>out_of_stock</th>\n",
       "      <th>avg_delivery_time_days</th>\n",
       "      <th>pid</th>\n",
       "      <th>seller</th>\n",
       "      <th>...</th>\n",
       "      <th>Type</th>\n",
       "      <th>Sleeve</th>\n",
       "      <th>Fit</th>\n",
       "      <th>Ideal For</th>\n",
       "      <th>Suitable For</th>\n",
       "      <th>Reversible</th>\n",
       "      <th>Fabric Care</th>\n",
       "      <th>cotton</th>\n",
       "      <th>poly</th>\n",
       "      <th>not_cotton_or_poly</th>\n",
       "    </tr>\n",
       "  </thead>\n",
       "  <tbody>\n",
       "    <tr>\n",
       "      <th>0</th>\n",
       "      <td>53df9662-e500-569c-946e-0c8d215a72cd</td>\n",
       "      <td>3.2</td>\n",
       "      <td>26</td>\n",
       "      <td>east i</td>\n",
       "      <td>Clothing and Accessories</td>\n",
       "      <td>2021-02-10</td>\n",
       "      <td>0</td>\n",
       "      <td>8</td>\n",
       "      <td>BXRFTZF7JGX75DAW</td>\n",
       "      <td>ZIYAA</td>\n",
       "      <td>...</td>\n",
       "      <td>outros</td>\n",
       "      <td>outros</td>\n",
       "      <td>outros</td>\n",
       "      <td>outros</td>\n",
       "      <td>outros</td>\n",
       "      <td>outros</td>\n",
       "      <td>outros</td>\n",
       "      <td>1</td>\n",
       "      <td>0</td>\n",
       "      <td>0</td>\n",
       "    </tr>\n",
       "    <tr>\n",
       "      <th>1</th>\n",
       "      <td>d0142842-84f7-537d-a06f-d85b76488a5f</td>\n",
       "      <td>4.0</td>\n",
       "      <td>33</td>\n",
       "      <td>dream o</td>\n",
       "      <td>Clothing and Accessories</td>\n",
       "      <td>2021-02-11</td>\n",
       "      <td>0</td>\n",
       "      <td>12</td>\n",
       "      <td>TSHFWQM96UHR6A4Q</td>\n",
       "      <td>Dream Onn Creations</td>\n",
       "      <td>...</td>\n",
       "      <td>Round Neck</td>\n",
       "      <td>Short Sleeve</td>\n",
       "      <td>Regular</td>\n",
       "      <td>Men</td>\n",
       "      <td>Western Wear</td>\n",
       "      <td>No</td>\n",
       "      <td>Do not Iron on print/embroidery/embellishment</td>\n",
       "      <td>1</td>\n",
       "      <td>0</td>\n",
       "      <td>0</td>\n",
       "    </tr>\n",
       "    <tr>\n",
       "      <th>2</th>\n",
       "      <td>79c8f0d7-30b1-5dd4-9f2f-2fe97782b027</td>\n",
       "      <td>3.9</td>\n",
       "      <td>32</td>\n",
       "      <td>free authori</td>\n",
       "      <td>Clothing and Accessories</td>\n",
       "      <td>2021-02-11</td>\n",
       "      <td>0</td>\n",
       "      <td>11</td>\n",
       "      <td>SWSFWCXH2WF6ZYRB</td>\n",
       "      <td>BioworldMerchandising</td>\n",
       "      <td>...</td>\n",
       "      <td>outros</td>\n",
       "      <td>Full Sleeve</td>\n",
       "      <td>outros</td>\n",
       "      <td>outros</td>\n",
       "      <td>Western Wear</td>\n",
       "      <td>No</td>\n",
       "      <td>Hand Wash, Reverse and Dry</td>\n",
       "      <td>1</td>\n",
       "      <td>1</td>\n",
       "      <td>0</td>\n",
       "    </tr>\n",
       "    <tr>\n",
       "      <th>3</th>\n",
       "      <td>0531c28c-7c50-5fbd-9ce3-a7cae3243ad5</td>\n",
       "      <td>3.8</td>\n",
       "      <td>31</td>\n",
       "      <td>humbe</td>\n",
       "      <td>Clothing and Accessories</td>\n",
       "      <td>2021-02-10</td>\n",
       "      <td>0</td>\n",
       "      <td>11</td>\n",
       "      <td>TSHFHQH3HKDAGGK9</td>\n",
       "      <td>HUMBERT</td>\n",
       "      <td>...</td>\n",
       "      <td>Polo Neck</td>\n",
       "      <td>Short Sleeve</td>\n",
       "      <td>Regular</td>\n",
       "      <td>Men</td>\n",
       "      <td>Western Wear</td>\n",
       "      <td>No</td>\n",
       "      <td>Gentle Machine Wash</td>\n",
       "      <td>1</td>\n",
       "      <td>0</td>\n",
       "      <td>0</td>\n",
       "    </tr>\n",
       "    <tr>\n",
       "      <th>4</th>\n",
       "      <td>d604baad-472e-5c18-86a3-7b46d4a890c2</td>\n",
       "      <td>2.4</td>\n",
       "      <td>20</td>\n",
       "      <td>rose we</td>\n",
       "      <td>Clothing and Accessories</td>\n",
       "      <td>2021-02-10</td>\n",
       "      <td>0</td>\n",
       "      <td>5</td>\n",
       "      <td>TSHFW9CJZSYUU6UX</td>\n",
       "      <td>Rupalcollectionjaipur</td>\n",
       "      <td>...</td>\n",
       "      <td>Round Neck</td>\n",
       "      <td>Short Sleeve</td>\n",
       "      <td>Regular</td>\n",
       "      <td>Men</td>\n",
       "      <td>Western Wear</td>\n",
       "      <td>outros</td>\n",
       "      <td>Regular Machine Wash</td>\n",
       "      <td>1</td>\n",
       "      <td>0</td>\n",
       "      <td>0</td>\n",
       "    </tr>\n",
       "  </tbody>\n",
       "</table>\n",
       "<p>5 rows × 29 columns</p>\n",
       "</div>"
      ],
      "text/plain": [
       "                                    _id  average_rating  number_of_reviews  \\\n",
       "0  53df9662-e500-569c-946e-0c8d215a72cd             3.2                 26   \n",
       "1  d0142842-84f7-537d-a06f-d85b76488a5f             4.0                 33   \n",
       "2  79c8f0d7-30b1-5dd4-9f2f-2fe97782b027             3.9                 32   \n",
       "3  0531c28c-7c50-5fbd-9ce3-a7cae3243ad5             3.8                 31   \n",
       "4  d604baad-472e-5c18-86a3-7b46d4a890c2             2.4                 20   \n",
       "\n",
       "          brand                  category  crawled_at  out_of_stock  \\\n",
       "0        east i  Clothing and Accessories  2021-02-10             0   \n",
       "1       dream o  Clothing and Accessories  2021-02-11             0   \n",
       "2  free authori  Clothing and Accessories  2021-02-11             0   \n",
       "3         humbe  Clothing and Accessories  2021-02-10             0   \n",
       "4       rose we  Clothing and Accessories  2021-02-10             0   \n",
       "\n",
       "   avg_delivery_time_days               pid                 seller  ...  \\\n",
       "0                       8  BXRFTZF7JGX75DAW                  ZIYAA  ...   \n",
       "1                      12  TSHFWQM96UHR6A4Q    Dream Onn Creations  ...   \n",
       "2                      11  SWSFWCXH2WF6ZYRB  BioworldMerchandising  ...   \n",
       "3                      11  TSHFHQH3HKDAGGK9                HUMBERT  ...   \n",
       "4                       5  TSHFW9CJZSYUU6UX  Rupalcollectionjaipur  ...   \n",
       "\n",
       "         Type        Sleeve      Fit  Ideal For  Suitable For Reversible  \\\n",
       "0      outros        outros   outros     outros        outros     outros   \n",
       "1  Round Neck  Short Sleeve  Regular        Men  Western Wear         No   \n",
       "2      outros   Full Sleeve   outros     outros  Western Wear         No   \n",
       "3   Polo Neck  Short Sleeve  Regular        Men  Western Wear         No   \n",
       "4  Round Neck  Short Sleeve  Regular        Men  Western Wear     outros   \n",
       "\n",
       "                                     Fabric Care cotton poly  \\\n",
       "0                                         outros      1    0   \n",
       "1  Do not Iron on print/embroidery/embellishment      1    0   \n",
       "2                     Hand Wash, Reverse and Dry      1    1   \n",
       "3                            Gentle Machine Wash      1    0   \n",
       "4                           Regular Machine Wash      1    0   \n",
       "\n",
       "  not_cotton_or_poly  \n",
       "0                  0  \n",
       "1                  0  \n",
       "2                  0  \n",
       "3                  0  \n",
       "4                  0  \n",
       "\n",
       "[5 rows x 29 columns]"
      ]
     },
     "execution_count": 130,
     "metadata": {},
     "output_type": "execute_result"
    }
   ],
   "source": [
    "df4.head()"
   ]
  },
  {
   "cell_type": "code",
   "execution_count": 98,
   "id": "d20eb5f4",
   "metadata": {
    "ExecuteTime": {
     "end_time": "2023-10-22T18:47:58.734832Z",
     "start_time": "2023-10-22T18:47:58.498067Z"
    }
   },
   "outputs": [
    {
     "data": {
      "text/plain": [
       "_id                          0\n",
       "average_rating               0\n",
       "number_of_reviews            0\n",
       "brand                        0\n",
       "category                     0\n",
       "crawled_at                   0\n",
       "out_of_stock                 0\n",
       "avg_delivery_time_days       0\n",
       "pid                          0\n",
       "product_details              0\n",
       "seller                       0\n",
       "sub_category                 0\n",
       "fabrication_time             0\n",
       "title                        0\n",
       "actual_price              3240\n",
       "product                      0\n",
       "Fabric                       0\n",
       "Pattern                      0\n",
       "Style Code                   0\n",
       "Pack of                      0\n",
       "Type                         0\n",
       "Sleeve                       0\n",
       "Fit                          0\n",
       "Ideal For                    0\n",
       "Suitable For                 0\n",
       "Reversible                   0\n",
       "Fabric Care                  0\n",
       "cotton                       0\n",
       "poly                         0\n",
       "not_cotton_or_poly           0\n",
       "dtype: int64"
      ]
     },
     "execution_count": 98,
     "metadata": {},
     "output_type": "execute_result"
    }
   ],
   "source": [
    "df4.isna().sum()"
   ]
  },
  {
   "cell_type": "markdown",
   "id": "e7467521",
   "metadata": {},
   "source": [
    "# EDA"
   ]
  },
  {
   "cell_type": "code",
   "execution_count": 131,
   "id": "f8715db2",
   "metadata": {
    "ExecuteTime": {
     "end_time": "2023-10-22T18:47:58.889333Z",
     "start_time": "2023-10-22T18:47:58.738815Z"
    }
   },
   "outputs": [],
   "source": [
    "df5 = df4.copy()"
   ]
  },
  {
   "cell_type": "code",
   "execution_count": 132,
   "id": "0487f0d7",
   "metadata": {},
   "outputs": [
    {
     "name": "stdout",
     "output_type": "stream",
     "text": [
      "To gain access to an instance object simply pass the value from 'ID' to dtale.get_instance(ID)\n",
      "\n",
      "ID Name                                URL\n",
      " 1      http://AZ-CD-02:40000/dtale/main/1\n",
      "        http://AZ-CD-02:40000/dtale/main/1\n",
      " 2      http://AZ-CD-02:40000/dtale/main/2\n",
      "        http://AZ-CD-02:40000/dtale/main/2\n",
      " 3      http://AZ-CD-02:40000/dtale/main/3\n",
      "        http://AZ-CD-02:40000/dtale/main/3\n",
      " 4      http://AZ-CD-02:40000/dtale/main/4\n",
      "        http://AZ-CD-02:40000/dtale/main/4\n",
      " 5      http://AZ-CD-02:40000/dtale/main/5\n",
      "        http://AZ-CD-02:40000/dtale/main/5\n",
      " 6      http://AZ-CD-02:40000/dtale/main/6\n",
      "        http://AZ-CD-02:40000/dtale/main/6\n",
      " 7      http://AZ-CD-02:40000/dtale/main/7\n",
      "        http://AZ-CD-02:40000/dtale/main/7\n"
     ]
    },
    {
     "name": "stderr",
     "output_type": "stream",
     "text": [
      "2023-12-12 21:32:29,340 - INFO     - Executing shutdown due to inactivity...\n",
      "2023-12-12 21:32:41,996 - INFO     - Executing shutdown...\n",
      "2023-12-12 21:32:42,008 - INFO     - Not running with the Werkzeug Server, exiting by searching gc for BaseWSGIServer\n"
     ]
    }
   ],
   "source": [
    "\n",
    "\n",
    "# Assigning a reference to a running D-Tale process\n",
    "d = dtale.show(df5)\n",
    "\n",
    "# Accessing data associated with D-Tale process\n",
    "tmp = d.data.copy()\n",
    "tmp['d'] = 4\n",
    "\n",
    "# Altering data associated with D-Tale process\n",
    "# FYI: this will clear any front-end settings you have at the time for this process (filter, sorts, formatting)\n",
    "d.data = tmp\n",
    "\n",
    "# Shutting down D-Tale process\n",
    "#d.kill()\n",
    "\n",
    "# using Python's `webbrowser` package it will try and open your server's default browser to this process\n",
    "d.open_browser()\n",
    "\n",
    "# There is also some helpful metadata about the process\n",
    "d._data_id  # the process's data identifier\n",
    "d._url  # the url to access the process\n",
    "\n",
    "d2 = dtale.get_instance(d._data_id)  # returns a new reference to the instance running at that data_id\n",
    "\n",
    "dtale.instances()  # prints a list of all ids & urls of running D-Tale sessions"
   ]
  },
  {
   "cell_type": "markdown",
   "id": "5140daa9",
   "metadata": {},
   "source": [
    "# Data Preparation"
   ]
  },
  {
   "cell_type": "code",
   "execution_count": 17,
   "id": "68f43f40",
   "metadata": {
    "ExecuteTime": {
     "end_time": "2023-10-22T18:51:07.125440Z",
     "start_time": "2023-10-22T18:51:07.048336Z"
    }
   },
   "outputs": [],
   "source": [
    "df6 = df5.copy()"
   ]
  },
  {
   "cell_type": "code",
   "execution_count": 18,
   "id": "7781dc92",
   "metadata": {
    "ExecuteTime": {
     "end_time": "2023-10-22T18:51:11.510798Z",
     "start_time": "2023-10-22T18:51:11.193815Z"
    }
   },
   "outputs": [
    {
     "data": {
      "text/plain": [
       "_id                          0\n",
       "average_rating               0\n",
       "number_of_reviews            0\n",
       "brand                        0\n",
       "category                     0\n",
       "crawled_at                   0\n",
       "out_of_stock                 0\n",
       "avg_delivery_time_days       0\n",
       "pid                          0\n",
       "product_details              0\n",
       "seller                       0\n",
       "sub_category                 0\n",
       "fabrication_time             0\n",
       "title                        0\n",
       "actual_price              3240\n",
       "product                      0\n",
       "Fabric                       0\n",
       "Pattern                      0\n",
       "Style Code                   0\n",
       "Pack of                      0\n",
       "Type                         0\n",
       "Sleeve                       0\n",
       "Fit                          0\n",
       "Ideal For                    0\n",
       "Suitable For                 0\n",
       "Reversible                   0\n",
       "Fabric Care                  0\n",
       "cotton                       0\n",
       "poly                         0\n",
       "not_cotton_or_poly           0\n",
       "dtype: int64"
      ]
     },
     "execution_count": 18,
     "metadata": {},
     "output_type": "execute_result"
    }
   ],
   "source": [
    "df6.isna().sum()"
   ]
  },
  {
   "cell_type": "markdown",
   "id": "dddaf50a",
   "metadata": {},
   "source": [
    "## Split Dataset"
   ]
  },
  {
   "cell_type": "code",
   "execution_count": 19,
   "id": "5d90c1cd",
   "metadata": {
    "ExecuteTime": {
     "end_time": "2023-10-22T18:51:15.765585Z",
     "start_time": "2023-10-22T18:51:15.461679Z"
    }
   },
   "outputs": [],
   "source": [
    "X = df6.drop(['_id','pid','actual_price'], axis=1)\n",
    "y = df6['actual_price']\n",
    "\n",
    "X_train, X_test, y_train, y_test = ms.train_test_split(X, y, test_size=0.01, random_state=1)\n",
    "data_train = pd.concat([X_train, y_train], axis=1)\n",
    "data_test = pd.concat([X_test, y_test], axis=1)"
   ]
  },
  {
   "cell_type": "markdown",
   "id": "492ffd74",
   "metadata": {},
   "source": [
    "## Rescalling"
   ]
  },
  {
   "cell_type": "code",
   "execution_count": 20,
   "id": "254a41af",
   "metadata": {
    "ExecuteTime": {
     "end_time": "2023-10-22T18:51:19.382218Z",
     "start_time": "2023-10-22T18:51:19.353376Z"
    }
   },
   "outputs": [
    {
     "data": {
      "text/plain": [
       "Index(['average_rating', 'number_of_reviews', 'brand', 'category',\n",
       "       'crawled_at', 'out_of_stock', 'avg_delivery_time_days',\n",
       "       'product_details', 'seller', 'sub_category', 'fabrication_time',\n",
       "       'title', 'product', 'Fabric', 'Pattern', 'Style Code', 'Pack of',\n",
       "       'Type', 'Sleeve', 'Fit', 'Ideal For', 'Suitable For', 'Reversible',\n",
       "       'Fabric Care', 'cotton', 'poly', 'not_cotton_or_poly'],\n",
       "      dtype='object')"
      ]
     },
     "execution_count": 20,
     "metadata": {},
     "output_type": "execute_result"
    }
   ],
   "source": [
    "X_train.columns"
   ]
  },
  {
   "cell_type": "markdown",
   "id": "7b5d3e4d",
   "metadata": {},
   "source": [
    "### Min Max Scaler"
   ]
  },
  {
   "cell_type": "code",
   "execution_count": 21,
   "id": "3211520b",
   "metadata": {
    "ExecuteTime": {
     "end_time": "2023-10-22T18:51:22.333295Z",
     "start_time": "2023-10-22T18:51:22.291501Z"
    }
   },
   "outputs": [],
   "source": [
    "mm = pp.MinMaxScaler()\n",
    "\n",
    "X_train['avg_delivery_time_days'] = mm.fit_transform(X_train[['avg_delivery_time_days']])\n",
    "pickle.dump(mm, open('parameters/mm_avg_delivery_time_days.pkl','wb'))"
   ]
  },
  {
   "cell_type": "markdown",
   "id": "325cece4",
   "metadata": {},
   "source": [
    "### Robust Scaler"
   ]
  },
  {
   "cell_type": "code",
   "execution_count": 22,
   "id": "2155c696",
   "metadata": {
    "ExecuteTime": {
     "end_time": "2023-10-22T18:51:26.917744Z",
     "start_time": "2023-10-22T18:51:26.814796Z"
    }
   },
   "outputs": [],
   "source": [
    "rs_average_rating   = pp.RobustScaler()\n",
    "rs_number_of_reviews = pp.RobustScaler()\n",
    "\n",
    "X_train['average_rating'] = rs_average_rating.fit_transform(X_train[['average_rating']])\n",
    "pickle.dump(rs_average_rating, open('parameters/rs_average_rating.pkl','wb'))\n",
    "\n",
    "X_train['number_of_reviews'] = rs_number_of_reviews.fit_transform(X_train[['number_of_reviews']])\n",
    "pickle.dump(rs_number_of_reviews, open('parameters/rs_number_of_reviews.pkl','wb'))"
   ]
  },
  {
   "cell_type": "markdown",
   "id": "c0c59710",
   "metadata": {},
   "source": [
    "## Transformation"
   ]
  },
  {
   "cell_type": "markdown",
   "id": "ff788903",
   "metadata": {},
   "source": [
    "### One Hot Enconde"
   ]
  },
  {
   "cell_type": "code",
   "execution_count": 23,
   "id": "5c34f589",
   "metadata": {
    "ExecuteTime": {
     "end_time": "2023-10-22T18:51:30.670275Z",
     "start_time": "2023-10-22T18:51:30.659165Z"
    }
   },
   "outputs": [],
   "source": [
    "# 'out_of_stock'"
   ]
  },
  {
   "cell_type": "markdown",
   "id": "c1f9429b",
   "metadata": {},
   "source": [
    "### Target Encode"
   ]
  },
  {
   "cell_type": "code",
   "execution_count": 24,
   "id": "094130c6",
   "metadata": {
    "ExecuteTime": {
     "end_time": "2023-10-22T18:51:37.536707Z",
     "start_time": "2023-10-22T18:51:33.586800Z"
    }
   },
   "outputs": [],
   "source": [
    "for att in ['Ideal For', 'Reversible', 'Suitable For', 'seller', 'product', 'Type', 'Fit', 'Sleeve', 'Fabric']:\n",
    "    te = ce.TargetEncoder(cols=[att]).fit(X_train, y_train)\n",
    "    pickle.dump(te, open(f'parameters/te_{att}.pkl','wb'))\n",
    "    X_train = te.transform(X_train)"
   ]
  },
  {
   "cell_type": "markdown",
   "id": "527eaecc",
   "metadata": {},
   "source": [
    "### Frequency Encode"
   ]
  },
  {
   "cell_type": "code",
   "execution_count": 25,
   "id": "f1ce9035",
   "metadata": {
    "ExecuteTime": {
     "end_time": "2023-10-22T18:51:41.377342Z",
     "start_time": "2023-10-22T18:51:39.974121Z"
    }
   },
   "outputs": [],
   "source": [
    "for att in ['brand','Style Code','Pack of', 'Pattern']:\n",
    "    fe =  ce.CountEncoder(cols=[att], normalize=True).fit(X_train)\n",
    "    pickle.dump(fe,open(f'parameters/fe_{att}.pkl', 'wb'))\n",
    "    X_train = fe.transform(X_train)"
   ]
  },
  {
   "cell_type": "markdown",
   "id": "c8b601c7",
   "metadata": {},
   "source": [
    "### Response Variable"
   ]
  },
  {
   "cell_type": "code",
   "execution_count": 26,
   "id": "cf5917e1",
   "metadata": {
    "ExecuteTime": {
     "end_time": "2023-10-22T18:51:43.852838Z",
     "start_time": "2023-10-22T18:51:43.843841Z"
    }
   },
   "outputs": [],
   "source": [
    "y_train = np.log1p(y_train)"
   ]
  },
  {
   "cell_type": "code",
   "execution_count": 27,
   "id": "7003b642",
   "metadata": {
    "ExecuteTime": {
     "end_time": "2023-10-22T18:51:48.114071Z",
     "start_time": "2023-10-22T18:51:47.796554Z"
    }
   },
   "outputs": [],
   "source": [
    "data_train = pd.concat([X_train, y_train], axis =1)"
   ]
  },
  {
   "cell_type": "code",
   "execution_count": 28,
   "id": "1b5024e7",
   "metadata": {
    "ExecuteTime": {
     "end_time": "2023-10-22T18:52:10.720768Z",
     "start_time": "2023-10-22T18:51:51.804483Z"
    }
   },
   "outputs": [
    {
     "ename": "KeyError",
     "evalue": "\"['actual_price'] not found in axis\"",
     "output_type": "error",
     "traceback": [
      "\u001b[1;31m---------------------------------------------------------------------------\u001b[0m",
      "\u001b[1;31mKeyError\u001b[0m                                  Traceback (most recent call last)",
      "Cell \u001b[1;32mIn[28], line 5\u001b[0m\n\u001b[0;32m      2\u001b[0m imputer \u001b[38;5;241m=\u001b[39m KNNImputer(n_neighbors\u001b[38;5;241m=\u001b[39m\u001b[38;5;241m5\u001b[39m)\n\u001b[0;32m      3\u001b[0m data_train \u001b[38;5;241m=\u001b[39m pd\u001b[38;5;241m.\u001b[39mDataFrame(imputer\u001b[38;5;241m.\u001b[39mfit_transform(data_train\u001b[38;5;241m.\u001b[39mselect_dtypes(include\u001b[38;5;241m=\u001b[39m[\u001b[38;5;124m'\u001b[39m\u001b[38;5;124mint64\u001b[39m\u001b[38;5;124m'\u001b[39m, \u001b[38;5;124m'\u001b[39m\u001b[38;5;124mfloat64\u001b[39m\u001b[38;5;124m'\u001b[39m])),columns \u001b[38;5;241m=\u001b[39m data_train\u001b[38;5;241m.\u001b[39mselect_dtypes(include\u001b[38;5;241m=\u001b[39m[\u001b[38;5;124m'\u001b[39m\u001b[38;5;124mint64\u001b[39m\u001b[38;5;124m'\u001b[39m, \u001b[38;5;124m'\u001b[39m\u001b[38;5;124mfloat64\u001b[39m\u001b[38;5;124m'\u001b[39m])\u001b[38;5;241m.\u001b[39mcolumns)\n\u001b[1;32m----> 5\u001b[0m X_train \u001b[38;5;241m=\u001b[39m \u001b[43mdata_train\u001b[49m\u001b[38;5;241;43m.\u001b[39;49m\u001b[43mdrop\u001b[49m\u001b[43m(\u001b[49m\u001b[38;5;124;43m'\u001b[39;49m\u001b[38;5;124;43mactual_price\u001b[39;49m\u001b[38;5;124;43m'\u001b[39;49m\u001b[43m)\u001b[49m\n\u001b[0;32m      6\u001b[0m y_train \u001b[38;5;241m=\u001b[39m data_train_aux[\u001b[38;5;124m'\u001b[39m\u001b[38;5;124mactual_price\u001b[39m\u001b[38;5;124m'\u001b[39m]\n",
      "File \u001b[1;32mc:\\ProgramData\\anaconda3\\envs\\azcorp\\Lib\\site-packages\\pandas\\core\\frame.py:5258\u001b[0m, in \u001b[0;36mDataFrame.drop\u001b[1;34m(self, labels, axis, index, columns, level, inplace, errors)\u001b[0m\n\u001b[0;32m   5110\u001b[0m \u001b[38;5;28;01mdef\u001b[39;00m \u001b[38;5;21mdrop\u001b[39m(\n\u001b[0;32m   5111\u001b[0m     \u001b[38;5;28mself\u001b[39m,\n\u001b[0;32m   5112\u001b[0m     labels: IndexLabel \u001b[38;5;241m=\u001b[39m \u001b[38;5;28;01mNone\u001b[39;00m,\n\u001b[1;32m   (...)\u001b[0m\n\u001b[0;32m   5119\u001b[0m     errors: IgnoreRaise \u001b[38;5;241m=\u001b[39m \u001b[38;5;124m\"\u001b[39m\u001b[38;5;124mraise\u001b[39m\u001b[38;5;124m\"\u001b[39m,\n\u001b[0;32m   5120\u001b[0m ) \u001b[38;5;241m-\u001b[39m\u001b[38;5;241m>\u001b[39m DataFrame \u001b[38;5;241m|\u001b[39m \u001b[38;5;28;01mNone\u001b[39;00m:\n\u001b[0;32m   5121\u001b[0m \u001b[38;5;250m    \u001b[39m\u001b[38;5;124;03m\"\"\"\u001b[39;00m\n\u001b[0;32m   5122\u001b[0m \u001b[38;5;124;03m    Drop specified labels from rows or columns.\u001b[39;00m\n\u001b[0;32m   5123\u001b[0m \n\u001b[1;32m   (...)\u001b[0m\n\u001b[0;32m   5256\u001b[0m \u001b[38;5;124;03m            weight  1.0     0.8\u001b[39;00m\n\u001b[0;32m   5257\u001b[0m \u001b[38;5;124;03m    \"\"\"\u001b[39;00m\n\u001b[1;32m-> 5258\u001b[0m     \u001b[38;5;28;01mreturn\u001b[39;00m \u001b[38;5;28;43msuper\u001b[39;49m\u001b[43m(\u001b[49m\u001b[43m)\u001b[49m\u001b[38;5;241;43m.\u001b[39;49m\u001b[43mdrop\u001b[49m\u001b[43m(\u001b[49m\n\u001b[0;32m   5259\u001b[0m \u001b[43m        \u001b[49m\u001b[43mlabels\u001b[49m\u001b[38;5;241;43m=\u001b[39;49m\u001b[43mlabels\u001b[49m\u001b[43m,\u001b[49m\n\u001b[0;32m   5260\u001b[0m \u001b[43m        \u001b[49m\u001b[43maxis\u001b[49m\u001b[38;5;241;43m=\u001b[39;49m\u001b[43maxis\u001b[49m\u001b[43m,\u001b[49m\n\u001b[0;32m   5261\u001b[0m \u001b[43m        \u001b[49m\u001b[43mindex\u001b[49m\u001b[38;5;241;43m=\u001b[39;49m\u001b[43mindex\u001b[49m\u001b[43m,\u001b[49m\n\u001b[0;32m   5262\u001b[0m \u001b[43m        \u001b[49m\u001b[43mcolumns\u001b[49m\u001b[38;5;241;43m=\u001b[39;49m\u001b[43mcolumns\u001b[49m\u001b[43m,\u001b[49m\n\u001b[0;32m   5263\u001b[0m \u001b[43m        \u001b[49m\u001b[43mlevel\u001b[49m\u001b[38;5;241;43m=\u001b[39;49m\u001b[43mlevel\u001b[49m\u001b[43m,\u001b[49m\n\u001b[0;32m   5264\u001b[0m \u001b[43m        \u001b[49m\u001b[43minplace\u001b[49m\u001b[38;5;241;43m=\u001b[39;49m\u001b[43minplace\u001b[49m\u001b[43m,\u001b[49m\n\u001b[0;32m   5265\u001b[0m \u001b[43m        \u001b[49m\u001b[43merrors\u001b[49m\u001b[38;5;241;43m=\u001b[39;49m\u001b[43merrors\u001b[49m\u001b[43m,\u001b[49m\n\u001b[0;32m   5266\u001b[0m \u001b[43m    \u001b[49m\u001b[43m)\u001b[49m\n",
      "File \u001b[1;32mc:\\ProgramData\\anaconda3\\envs\\azcorp\\Lib\\site-packages\\pandas\\core\\generic.py:4549\u001b[0m, in \u001b[0;36mNDFrame.drop\u001b[1;34m(self, labels, axis, index, columns, level, inplace, errors)\u001b[0m\n\u001b[0;32m   4547\u001b[0m \u001b[38;5;28;01mfor\u001b[39;00m axis, labels \u001b[38;5;129;01min\u001b[39;00m axes\u001b[38;5;241m.\u001b[39mitems():\n\u001b[0;32m   4548\u001b[0m     \u001b[38;5;28;01mif\u001b[39;00m labels \u001b[38;5;129;01mis\u001b[39;00m \u001b[38;5;129;01mnot\u001b[39;00m \u001b[38;5;28;01mNone\u001b[39;00m:\n\u001b[1;32m-> 4549\u001b[0m         obj \u001b[38;5;241m=\u001b[39m \u001b[43mobj\u001b[49m\u001b[38;5;241;43m.\u001b[39;49m\u001b[43m_drop_axis\u001b[49m\u001b[43m(\u001b[49m\u001b[43mlabels\u001b[49m\u001b[43m,\u001b[49m\u001b[43m \u001b[49m\u001b[43maxis\u001b[49m\u001b[43m,\u001b[49m\u001b[43m \u001b[49m\u001b[43mlevel\u001b[49m\u001b[38;5;241;43m=\u001b[39;49m\u001b[43mlevel\u001b[49m\u001b[43m,\u001b[49m\u001b[43m \u001b[49m\u001b[43merrors\u001b[49m\u001b[38;5;241;43m=\u001b[39;49m\u001b[43merrors\u001b[49m\u001b[43m)\u001b[49m\n\u001b[0;32m   4551\u001b[0m \u001b[38;5;28;01mif\u001b[39;00m inplace:\n\u001b[0;32m   4552\u001b[0m     \u001b[38;5;28mself\u001b[39m\u001b[38;5;241m.\u001b[39m_update_inplace(obj)\n",
      "File \u001b[1;32mc:\\ProgramData\\anaconda3\\envs\\azcorp\\Lib\\site-packages\\pandas\\core\\generic.py:4591\u001b[0m, in \u001b[0;36mNDFrame._drop_axis\u001b[1;34m(self, labels, axis, level, errors, only_slice)\u001b[0m\n\u001b[0;32m   4589\u001b[0m         new_axis \u001b[38;5;241m=\u001b[39m axis\u001b[38;5;241m.\u001b[39mdrop(labels, level\u001b[38;5;241m=\u001b[39mlevel, errors\u001b[38;5;241m=\u001b[39merrors)\n\u001b[0;32m   4590\u001b[0m     \u001b[38;5;28;01melse\u001b[39;00m:\n\u001b[1;32m-> 4591\u001b[0m         new_axis \u001b[38;5;241m=\u001b[39m \u001b[43maxis\u001b[49m\u001b[38;5;241;43m.\u001b[39;49m\u001b[43mdrop\u001b[49m\u001b[43m(\u001b[49m\u001b[43mlabels\u001b[49m\u001b[43m,\u001b[49m\u001b[43m \u001b[49m\u001b[43merrors\u001b[49m\u001b[38;5;241;43m=\u001b[39;49m\u001b[43merrors\u001b[49m\u001b[43m)\u001b[49m\n\u001b[0;32m   4592\u001b[0m     indexer \u001b[38;5;241m=\u001b[39m axis\u001b[38;5;241m.\u001b[39mget_indexer(new_axis)\n\u001b[0;32m   4594\u001b[0m \u001b[38;5;66;03m# Case for non-unique axis\u001b[39;00m\n\u001b[0;32m   4595\u001b[0m \u001b[38;5;28;01melse\u001b[39;00m:\n",
      "File \u001b[1;32mc:\\ProgramData\\anaconda3\\envs\\azcorp\\Lib\\site-packages\\pandas\\core\\indexes\\base.py:6699\u001b[0m, in \u001b[0;36mIndex.drop\u001b[1;34m(self, labels, errors)\u001b[0m\n\u001b[0;32m   6697\u001b[0m \u001b[38;5;28;01mif\u001b[39;00m mask\u001b[38;5;241m.\u001b[39many():\n\u001b[0;32m   6698\u001b[0m     \u001b[38;5;28;01mif\u001b[39;00m errors \u001b[38;5;241m!=\u001b[39m \u001b[38;5;124m\"\u001b[39m\u001b[38;5;124mignore\u001b[39m\u001b[38;5;124m\"\u001b[39m:\n\u001b[1;32m-> 6699\u001b[0m         \u001b[38;5;28;01mraise\u001b[39;00m \u001b[38;5;167;01mKeyError\u001b[39;00m(\u001b[38;5;124mf\u001b[39m\u001b[38;5;124m\"\u001b[39m\u001b[38;5;132;01m{\u001b[39;00m\u001b[38;5;28mlist\u001b[39m(labels[mask])\u001b[38;5;132;01m}\u001b[39;00m\u001b[38;5;124m not found in axis\u001b[39m\u001b[38;5;124m\"\u001b[39m)\n\u001b[0;32m   6700\u001b[0m     indexer \u001b[38;5;241m=\u001b[39m indexer[\u001b[38;5;241m~\u001b[39mmask]\n\u001b[0;32m   6701\u001b[0m \u001b[38;5;28;01mreturn\u001b[39;00m \u001b[38;5;28mself\u001b[39m\u001b[38;5;241m.\u001b[39mdelete(indexer)\n",
      "\u001b[1;31mKeyError\u001b[0m: \"['actual_price'] not found in axis\""
     ]
    }
   ],
   "source": [
    "from sklearn.impute import KNNImputer\n",
    "imputer = KNNImputer(n_neighbors=5)\n",
    "data_train = pd.DataFrame(imputer.fit_transform(data_train.select_dtypes(include=['int64', 'float64'])),columns = data_train.select_dtypes(include=['int64', 'float64']).columns)\n",
    "\n",
    "X_train = data_train.drop('actual_price')\n",
    "y_train = data_train_aux['actual_price']"
   ]
  },
  {
   "cell_type": "markdown",
   "id": "3788f05a",
   "metadata": {},
   "source": [
    "## Test Preparation"
   ]
  },
  {
   "cell_type": "code",
   "execution_count": null,
   "id": "76bb854c",
   "metadata": {
    "ExecuteTime": {
     "end_time": "2023-10-22T18:54:09.334883Z",
     "start_time": "2023-10-22T18:53:20.235344Z"
    }
   },
   "outputs": [
    {
     "name": "stderr",
     "output_type": "stream",
     "text": [
      "2023-10-22 15:53:20,256 [33076] WARNING  py.warnings:109: [JupyterRequire] C:\\Users\\Notebook\\AppData\\Local\\Temp/ipykernel_33076/2325306063.py:12: SettingWithCopyWarning: \n",
      "A value is trying to be set on a copy of a slice from a DataFrame.\n",
      "Try using .loc[row_indexer,col_indexer] = value instead\n",
      "\n",
      "See the caveats in the documentation: https://pandas.pydata.org/pandas-docs/stable/user_guide/indexing.html#returning-a-view-versus-a-copy\n",
      "  X_test['avg_delivery_time_days'] = mm.transform(X_test[['avg_delivery_time_days']])\n",
      "\n",
      "2023-10-22 15:53:20,267 [33076] WARNING  py.warnings:109: [JupyterRequire] C:\\Users\\Notebook\\AppData\\Local\\Temp/ipykernel_33076/2325306063.py:16: SettingWithCopyWarning: \n",
      "A value is trying to be set on a copy of a slice from a DataFrame.\n",
      "Try using .loc[row_indexer,col_indexer] = value instead\n",
      "\n",
      "See the caveats in the documentation: https://pandas.pydata.org/pandas-docs/stable/user_guide/indexing.html#returning-a-view-versus-a-copy\n",
      "  X_test['average_rating'] = rs_ar.transform(X_test[['average_rating']])\n",
      "\n",
      "2023-10-22 15:53:20,277 [33076] WARNING  py.warnings:109: [JupyterRequire] C:\\Users\\Notebook\\AppData\\Local\\Temp/ipykernel_33076/2325306063.py:20: SettingWithCopyWarning: \n",
      "A value is trying to be set on a copy of a slice from a DataFrame.\n",
      "Try using .loc[row_indexer,col_indexer] = value instead\n",
      "\n",
      "See the caveats in the documentation: https://pandas.pydata.org/pandas-docs/stable/user_guide/indexing.html#returning-a-view-versus-a-copy\n",
      "  X_test['number_of_reviews'] = rs_nr.transform(X_test[['number_of_reviews']])\n",
      "\n"
     ]
    }
   ],
   "source": [
    "X_test_mod, y_test_mod = test_preparation(X_test, y_test)\n",
    "\n",
    "data_test = pd.concat([X_test_mod, y_test_mod])\n",
    "\n",
    "from sklearn.impute import KNNImputer\n",
    "imputer = KNNImputer(n_neighbors=5)\n",
    "data_test = pd.DataFrame(imputer.fit_transform(data_test.select_dtypes(include=['int64', 'float64'])),columns = data_test.select_dtypes(include=['int64', 'float64']).columns)\n",
    "\n",
    "X_test_mod = data_test.drop(columns=0)\n",
    "y_test_mod = data_test[0]"
   ]
  },
  {
   "cell_type": "markdown",
   "id": "1d0cc108",
   "metadata": {},
   "source": [
    "# Feature Selection"
   ]
  },
  {
   "cell_type": "code",
   "execution_count": null,
   "id": "3b98ad6a",
   "metadata": {
    "ExecuteTime": {
     "end_time": "2023-10-22T18:55:30.312601Z",
     "start_time": "2023-10-22T18:55:30.295935Z"
    }
   },
   "outputs": [
    {
     "data": {
      "text/plain": [
       "['average_rating',\n",
       " 'number_of_reviews',\n",
       " 'brand',\n",
       " 'category',\n",
       " 'crawled_at',\n",
       " 'out_of_stock',\n",
       " 'avg_delivery_time_days',\n",
       " 'product_details',\n",
       " 'seller',\n",
       " 'sub_category',\n",
       " 'fabrication_time',\n",
       " 'title',\n",
       " 'product',\n",
       " 'Fabric',\n",
       " 'Pattern',\n",
       " 'Style Code',\n",
       " 'Pack of',\n",
       " 'Type',\n",
       " 'Sleeve',\n",
       " 'Fit',\n",
       " 'Ideal For',\n",
       " 'Suitable For',\n",
       " 'Reversible',\n",
       " 'Fabric Care',\n",
       " 'cotton',\n",
       " 'poly',\n",
       " 'not_cotton_or_poly']"
      ]
     },
     "execution_count": 1054,
     "metadata": {},
     "output_type": "execute_result"
    }
   ],
   "source": [
    "X_train.columns.tolist()"
   ]
  },
  {
   "cell_type": "code",
   "execution_count": null,
   "id": "a400968d",
   "metadata": {
    "ExecuteTime": {
     "end_time": "2023-10-22T18:55:34.360536Z",
     "start_time": "2023-10-22T18:55:34.353078Z"
    }
   },
   "outputs": [],
   "source": [
    "# 'Style Code','Pack of','Ideal For','Suitable For','Reversible',"
   ]
  },
  {
   "cell_type": "code",
   "execution_count": null,
   "id": "6f0a77d2",
   "metadata": {
    "ExecuteTime": {
     "end_time": "2023-10-22T18:55:37.662117Z",
     "start_time": "2023-10-22T18:55:37.651296Z"
    }
   },
   "outputs": [],
   "source": [
    "# 'brand','Style Code','Pack of', 'Pattern'\n",
    "# 'Ideal For', 'Reversible', 'Suitable For', 'seller', 'product', 'Type', 'Fit', 'Sleeve'"
   ]
  },
  {
   "cell_type": "code",
   "execution_count": null,
   "id": "cfd36892",
   "metadata": {
    "ExecuteTime": {
     "end_time": "2023-10-22T18:55:40.666174Z",
     "start_time": "2023-10-22T18:55:40.641492Z"
    }
   },
   "outputs": [],
   "source": [
    "features_selected = [\n",
    "'average_rating',\n",
    "'number_of_reviews',\n",
    "'brand',\n",
    "# 'category',\n",
    "# 'crawled_at',\n",
    "'out_of_stock',\n",
    "'avg_delivery_time_days',\n",
    "#  'product_details',\n",
    "'seller',\n",
    "#  'sub_category',\n",
    "#  'fabrication_time',\n",
    "#  'title',\n",
    " 'Fabric',\n",
    " 'Pattern',\n",
    "'cotton',\n",
    "'poly',\n",
    "'not_cotton_or_poly',\n",
    "'Style Code',\n",
    "'Pack of',\n",
    "'Type',\n",
    " 'Sleeve',\n",
    " 'Fit',\n",
    "'Ideal For',\n",
    "'Suitable For',\n",
    "'Reversible',\n",
    "#  'Fabric Care',\n",
    "'product'\n",
    "]"
   ]
  },
  {
   "cell_type": "markdown",
   "id": "63cd1eef",
   "metadata": {},
   "source": [
    "## Importancia das árvores"
   ]
  },
  {
   "cell_type": "code",
   "execution_count": null,
   "id": "712f20ba",
   "metadata": {
    "ExecuteTime": {
     "end_time": "2023-10-22T18:55:45.982379Z",
     "start_time": "2023-10-22T18:55:44.090294Z"
    }
   },
   "outputs": [
    {
     "name": "stdout",
     "output_type": "stream",
     "text": [
      "Feature ranking\n",
      "                  feature  importance\n",
      "0                  seller         558\n",
      "0                   brand         492\n",
      "0                    Type         338\n",
      "0          average_rating         305\n",
      "0                  Fabric         272\n",
      "0                 Pack of         205\n",
      "0                 product         179\n",
      "0                 Pattern         147\n",
      "0              Style Code         122\n",
      "0                  Sleeve          88\n",
      "0              Reversible          77\n",
      "0                     Fit          67\n",
      "0            out_of_stock          47\n",
      "0               Ideal For          32\n",
      "0                  cotton          21\n",
      "0                    poly          20\n",
      "0            Suitable For          18\n",
      "0      not_cotton_or_poly          12\n",
      "0       number_of_reviews           0\n",
      "0  avg_delivery_time_days           0\n"
     ]
    }
   ],
   "source": [
    "# Crie e treine o modelo LGBMClassifier\n",
    "lgb_model = LGBMRegressor(n_jobs=-1, random_state=42)\n",
    "X_train_sel = X_train[features_selected]\n",
    "lgb_model.fit(X_train_sel, y_train)\n",
    "\n",
    "# Obtenha as importâncias das características do modelo\n",
    "importances = lgb_model.feature_importances_\n",
    "\n",
    "# Ordene as características por importância decrescente\n",
    "indices = np.argsort(importances)[::-1]\n",
    "\n",
    "# Imprima o ranking das características\n",
    "print('Feature ranking')\n",
    "df = pd.DataFrame()\n",
    "\n",
    "for i, j in zip(X_train_sel.columns, importances):\n",
    "    aux = pd.DataFrame({'feature': i, 'importance': j}, index=[0])\n",
    "    df = pd.concat([df, aux], axis=0)\n",
    "\n",
    "print(df.sort_values('importance', ascending=False))"
   ]
  },
  {
   "cell_type": "markdown",
   "id": "c0547cfa",
   "metadata": {},
   "source": [
    "# Machine Learning"
   ]
  },
  {
   "cell_type": "code",
   "execution_count": null,
   "id": "c0ef7c24",
   "metadata": {
    "ExecuteTime": {
     "end_time": "2023-10-22T18:55:57.196668Z",
     "start_time": "2023-10-22T18:55:57.157516Z"
    }
   },
   "outputs": [],
   "source": [
    "def MachineLearning(X_train, y_train, X_test, y_test, features_selected):\n",
    "    SEED = 42\n",
    "\n",
    "    lista_de_medidas = ['SMAPE']\n",
    "    nome_das_medidas = ['SMAPE']\n",
    "\n",
    "    lista_de_modelos = [XGBRegressor(learning_rate=0.1, n_estimators=50, max_depth=3),\n",
    "                        LGBMRegressor(random_state=SEED, n_jobs=-1, force_row_wise=True, ),\n",
    "                        DecisionTreeRegressor(random_state=SEED),\n",
    "                        KNeighborsRegressor(n_neighbors=5,  weights='distance',n_jobs=-1),\n",
    "                        BaggingRegressor(),\n",
    "                        RandomForestRegressor(random_state=SEED)]\n",
    "\n",
    "    nome_dos_modelos = ['XGBoost', \n",
    "                        'LGBM', \n",
    "                        'DecisionTree',\n",
    "                        'KNN',\n",
    "                        'Bagging',\n",
    "                        'RandomForest']\n",
    "\n",
    "    resultados0 = {}\n",
    "    \n",
    "    X_train_selected = X_train[features_selected]\n",
    "    X_test_selected = X_test[features_selected]\n",
    "\n",
    "\n",
    "    for i in range(len(lista_de_modelos)):\n",
    "        print('Rodando modelo: ' + nome_dos_modelos[i])\n",
    "        \n",
    "        model = lista_de_modelos[i]\n",
    "        \n",
    "        model.fit(X_train_selected, y_train)\n",
    "        \n",
    "        y_pred = model.predict(X_test_selected)\n",
    "        \n",
    "        smape = 100 / len(y_test) * np.sum(2 * np.abs(np.expm1(y_pred) - np.expm1(y_test)) / (np.abs(np.expm1(y_test)) + np.abs(np.expm1(y_pred))))\n",
    "\n",
    "        resultados0[nome_dos_modelos[i]] = [smape]\n",
    "    \n",
    "    resultados = pd.DataFrame(resultados0, index = nome_das_medidas).T\n",
    "\n",
    "    return resultados"
   ]
  },
  {
   "cell_type": "code",
   "execution_count": null,
   "id": "3b963159",
   "metadata": {
    "ExecuteTime": {
     "end_time": "2023-10-22T18:57:13.705673Z",
     "start_time": "2023-10-22T18:56:10.600525Z"
    }
   },
   "outputs": [
    {
     "name": "stdout",
     "output_type": "stream",
     "text": [
      "Rodando modelo: XGBoost\n",
      "Rodando modelo: LGBM\n",
      "Rodando modelo: DecisionTree\n",
      "Rodando modelo: KNN\n",
      "Rodando modelo: Bagging\n",
      "Rodando modelo: RandomForest\n"
     ]
    },
    {
     "data": {
      "text/html": [
       "<div>\n",
       "<style scoped>\n",
       "    .dataframe tbody tr th:only-of-type {\n",
       "        vertical-align: middle;\n",
       "    }\n",
       "\n",
       "    .dataframe tbody tr th {\n",
       "        vertical-align: top;\n",
       "    }\n",
       "\n",
       "    .dataframe thead th {\n",
       "        text-align: right;\n",
       "    }\n",
       "</style>\n",
       "<table border=\"1\" class=\"dataframe\">\n",
       "  <thead>\n",
       "    <tr style=\"text-align: right;\">\n",
       "      <th></th>\n",
       "      <th>SMAPE</th>\n",
       "    </tr>\n",
       "  </thead>\n",
       "  <tbody>\n",
       "    <tr>\n",
       "      <th>XGBoost</th>\n",
       "      <td>36.368741</td>\n",
       "    </tr>\n",
       "    <tr>\n",
       "      <th>LGBM</th>\n",
       "      <td>37.455306</td>\n",
       "    </tr>\n",
       "    <tr>\n",
       "      <th>DecisionTree</th>\n",
       "      <td>40.369842</td>\n",
       "    </tr>\n",
       "    <tr>\n",
       "      <th>KNN</th>\n",
       "      <td>38.290031</td>\n",
       "    </tr>\n",
       "    <tr>\n",
       "      <th>Bagging</th>\n",
       "      <td>37.745010</td>\n",
       "    </tr>\n",
       "    <tr>\n",
       "      <th>RandomForest</th>\n",
       "      <td>38.507773</td>\n",
       "    </tr>\n",
       "  </tbody>\n",
       "</table>\n",
       "</div>"
      ],
      "text/plain": [
       "                  SMAPE\n",
       "XGBoost       36.368741\n",
       "LGBM          37.455306\n",
       "DecisionTree  40.369842\n",
       "KNN           38.290031\n",
       "Bagging       37.745010\n",
       "RandomForest  38.507773"
      ]
     },
     "execution_count": 1060,
     "metadata": {},
     "output_type": "execute_result"
    }
   ],
   "source": [
    "MachineLearning(X_train, y_train, X_test_mod, y_test_mod, features_selected)"
   ]
  },
  {
   "cell_type": "markdown",
   "id": "4a6dd862",
   "metadata": {},
   "source": [
    "# Fine Tuning\n",
    "\n",
    "- Não possui cross validation\n",
    "- Não realiza reencode das variáveis\n",
    "- **Para maior assertividade, rodar com todos os dados de treino disponíveis**"
   ]
  },
  {
   "cell_type": "code",
   "execution_count": null,
   "id": "1d015085",
   "metadata": {
    "ExecuteTime": {
     "end_time": "2023-10-22T18:00:05.403089Z",
     "start_time": "2023-10-22T18:00:05.369014Z"
    }
   },
   "outputs": [],
   "source": [
    "# def objective_cv(trial):  \n",
    "    \n",
    "#     n_estimators = trial.suggest_int('n_estimators',20, 100)\n",
    "#     eta = trial.suggest_float('eta',0.01, 0.05)\n",
    "#     max_depth = trial.suggest_int('max_depth', 3, 9)\n",
    "#     subsample = trial.suggest_float('subsample',0.1, 0.9)\n",
    "#     colsample_bytree = trial.suggest_float('colsample_bytree',0.1,0.9)\n",
    "\n",
    "#     # model definition\n",
    "#     xgb_model = XGBRegressor( n_estimators    = n_estimators, \n",
    "#                               eta              = eta, \n",
    "#                               max_depth        = max_depth, \n",
    "#                               subsample        = subsample,\n",
    "#                               colsample_bytree = colsample_bytree\n",
    "#                              )\n",
    "    \n",
    "#     xgb_model.fit(X_train[features_selected], y_train)\n",
    "    \n",
    "#     # Model Prediction \n",
    "#     y_pred = xgb_model.predict(X_test_mod[features_selected])\n",
    "\n",
    "#     # calculando rmse\n",
    "#     smape = 100 / len(y_test_mod) * np.sum(2 * np.abs(np.expm1(y_pred) - np.expm1(y_test_mod)) / (np.abs(np.expm1(y_test_mod)) + np.abs(np.expm1(y_pred))))\n",
    "\n",
    "#     return smape"
   ]
  },
  {
   "cell_type": "code",
   "execution_count": null,
   "id": "d4a6f9f5",
   "metadata": {
    "ExecuteTime": {
     "end_time": "2023-10-22T18:00:05.417624Z",
     "start_time": "2023-10-22T18:00:05.408547Z"
    }
   },
   "outputs": [],
   "source": [
    "# import optuna\n",
    "# study = optuna.create_study(direction='minimize')\n",
    "# study.optimize(objective_cv, n_trials=50)"
   ]
  },
  {
   "cell_type": "code",
   "execution_count": null,
   "id": "9cd1c5ae",
   "metadata": {
    "ExecuteTime": {
     "end_time": "2023-10-22T18:57:22.186265Z",
     "start_time": "2023-10-22T18:57:22.167433Z"
    }
   },
   "outputs": [],
   "source": [
    "# best_params = study.best_params\n",
    "best_params = {'n_estimators': 100,\n",
    " 'eta': 0.047830364071577154,\n",
    " 'max_depth': 5,\n",
    " 'subsample': 0.8457014395880995,\n",
    " 'colsample_bytree': 0.17415570173518335}"
   ]
  },
  {
   "cell_type": "code",
   "execution_count": null,
   "id": "534319d1",
   "metadata": {
    "ExecuteTime": {
     "end_time": "2023-10-22T18:57:27.964924Z",
     "start_time": "2023-10-22T18:57:26.069662Z"
    }
   },
   "outputs": [
    {
     "data": {
      "text/plain": [
       "XGBRegressor(base_score=None, booster=None, callbacks=None,\n",
       "             colsample_bylevel=None, colsample_bynode=None,\n",
       "             colsample_bytree=0.17415570173518335, early_stopping_rounds=None,\n",
       "             enable_categorical=False, eta=0.047830364071577154,\n",
       "             eval_metric=None, feature_types=None, gamma=None, gpu_id=None,\n",
       "             grow_policy=None, importance_type=None,\n",
       "             interaction_constraints=None, learning_rate=None, max_bin=None,\n",
       "             max_cat_threshold=None, max_cat_to_onehot=None,\n",
       "             max_delta_step=None, max_depth=5, max_leaves=None,\n",
       "             min_child_weight=None, missing=nan, monotone_constraints=None,\n",
       "             n_estimators=100, n_jobs=-1, num_parallel_tree=None,\n",
       "             predictor=None, ...)"
      ]
     },
     "execution_count": 1062,
     "metadata": {},
     "output_type": "execute_result"
    }
   ],
   "source": [
    "best_model = XGBRegressor(n_jobs = -1 , \n",
    "                                 random_state=0,\n",
    "                                 n_estimators = best_params['n_estimators'],\n",
    "                                 eta = best_params['eta'],\n",
    "                                 max_depth = best_params['max_depth'],\n",
    "                                 subsample = best_params['subsample'],\n",
    "                                 colsample_bytree = best_params['colsample_bytree'])\n",
    "\n",
    "# model fit\n",
    "best_model.fit(X_train[features_selected], y_train)"
   ]
  },
  {
   "cell_type": "markdown",
   "id": "d1a919b0",
   "metadata": {},
   "source": [
    "## Submission"
   ]
  },
  {
   "cell_type": "markdown",
   "id": "40872ab3",
   "metadata": {},
   "source": [
    "### Carregar os dados"
   ]
  },
  {
   "cell_type": "code",
   "execution_count": null,
   "id": "4bd9ac56",
   "metadata": {
    "ExecuteTime": {
     "end_time": "2023-10-22T18:57:33.150462Z",
     "start_time": "2023-10-22T18:57:32.432510Z"
    }
   },
   "outputs": [
    {
     "data": {
      "text/plain": [
       "(5600, 16)"
      ]
     },
     "execution_count": 1063,
     "metadata": {},
     "output_type": "execute_result"
    }
   ],
   "source": [
    "# Opening JSON file\n",
    "sub = open('dataset/raw/test.json')\n",
    " \n",
    "# returns JSON object as \n",
    "# a dictionary\n",
    "data_sub_aux = json.load(sub)\n",
    "\n",
    "data_sub = pd.json_normalize(data_sub_aux, record_path = 'data')\n",
    "data_sub.columns = data_sub_aux['columns']\n",
    "data_sub.shape"
   ]
  },
  {
   "cell_type": "markdown",
   "id": "0f0ceb5a",
   "metadata": {},
   "source": [
    "### Transformar os dados"
   ]
  },
  {
   "cell_type": "code",
   "execution_count": null,
   "id": "4bb94ac9",
   "metadata": {
    "ExecuteTime": {
     "end_time": "2023-10-22T18:57:37.009649Z",
     "start_time": "2023-10-22T18:57:36.986256Z"
    }
   },
   "outputs": [],
   "source": [
    "def submission_preparation(df, features_selected):\n",
    "    \n",
    "    df = limpeza(df)\n",
    "    df = feature_engen(df)\n",
    "    df = rescalling(df)\n",
    "    df = transform(df)\n",
    "    \n",
    "    return df[features_selected]"
   ]
  },
  {
   "cell_type": "markdown",
   "id": "27cf669a",
   "metadata": {},
   "source": [
    "### Aplicar sobre os dados de teste"
   ]
  },
  {
   "cell_type": "code",
   "execution_count": null,
   "id": "08382f4b",
   "metadata": {
    "ExecuteTime": {
     "end_time": "2023-10-22T18:57:44.284357Z",
     "start_time": "2023-10-22T18:57:40.256302Z"
    }
   },
   "outputs": [],
   "source": [
    "data_sub_mod = submission_preparation(data_sub, features_selected)"
   ]
  },
  {
   "cell_type": "code",
   "execution_count": null,
   "id": "245aadce",
   "metadata": {
    "ExecuteTime": {
     "end_time": "2023-10-22T18:57:48.048521Z",
     "start_time": "2023-10-22T18:57:47.993947Z"
    },
    "run_control": {
     "marked": true
    }
   },
   "outputs": [],
   "source": [
    "y_hat = np.expm1(best_model.predict(data_sub_mod))"
   ]
  },
  {
   "cell_type": "code",
   "execution_count": null,
   "id": "903121ac",
   "metadata": {
    "ExecuteTime": {
     "end_time": "2023-10-22T18:57:51.964500Z",
     "start_time": "2023-10-22T18:57:51.940659Z"
    }
   },
   "outputs": [],
   "source": [
    "df_submission = pd.DataFrame()\n",
    "df_submission['pid'] = data_sub['pid']\n",
    "df_submission['actual_price'] = y_hat"
   ]
  },
  {
   "cell_type": "code",
   "execution_count": null,
   "id": "56c44141",
   "metadata": {
    "ExecuteTime": {
     "end_time": "2023-10-22T18:57:55.923727Z",
     "start_time": "2023-10-22T18:57:55.829535Z"
    }
   },
   "outputs": [],
   "source": [
    "df_submission.to_csv('submissions/submission_11.csv', index=False)"
   ]
  },
  {
   "cell_type": "markdown",
   "id": "0e88511f",
   "metadata": {},
   "source": [
    "------\n",
    "# 10 Help Functions"
   ]
  },
  {
   "cell_type": "code",
   "execution_count": null,
   "id": "9533b7df",
   "metadata": {
    "ExecuteTime": {
     "end_time": "2023-10-21T20:25:39.789072Z",
     "start_time": "2023-10-21T20:25:39.775592Z"
    }
   },
   "outputs": [],
   "source": [
    "def f(x):\n",
    "    try:\n",
    "        return ast.literal_eval(str(x))   \n",
    "    except Exception as e:\n",
    "        print(e)\n",
    "        return []"
   ]
  },
  {
   "cell_type": "code",
   "execution_count": null,
   "id": "3362a80d",
   "metadata": {
    "ExecuteTime": {
     "end_time": "2023-10-21T20:25:39.804600Z",
     "start_time": "2023-10-21T20:25:39.791073Z"
    }
   },
   "outputs": [],
   "source": [
    "def junta_dict(dict_list):\n",
    "    dicionario = {}\n",
    "    for d in dict_list:\n",
    "        for key, value in d.items():\n",
    "            dicionario[key] = value\n",
    "    return dicionario"
   ]
  },
  {
   "cell_type": "code",
   "execution_count": null,
   "id": "5ed13f01",
   "metadata": {
    "ExecuteTime": {
     "end_time": "2023-10-21T20:25:39.820039Z",
     "start_time": "2023-10-21T20:25:39.806521Z"
    }
   },
   "outputs": [],
   "source": [
    "def feature_engen(df):\n",
    "    ## out_of_stock - transformar para int \n",
    "    df['out_of_stock'] = df['out_of_stock'].astype('int64')\n",
    "\n",
    "    # brand - substituir por outros\n",
    "    df['brand'] = df['brand'].apply(lambda x: x.lower())\n",
    "\n",
    "    # criando feature product\n",
    "    df['product'] = df[['category', 'sub_category']].apply(lambda x: x['category'] + '_' + x['sub_category'], axis = 1)\n",
    "    \n",
    "    ## Tratando variaveis respostas nulas\n",
    "    prices = df[['seller','pid', 'actual_price']].groupby('pid').max().reset_index()\n",
    "    precos_nulos = df.loc[df['actual_price'].isna(), ['_id','pid']]\n",
    "    precos_recuperados = pd.merge(precos_nulos, prices, how = 'inner', on = 'pid')\n",
    "    \n",
    "    df_aux = pd.merge(df, precos_recuperados[['_id', 'actual_price']], on = '_id', how = 'left')\n",
    "    df['actual_price'] = df_aux['actual_price_x'].fillna(0) + df_aux['actual_price_y'].fillna(0)\n",
    "    \n",
    "    df = df.dropna(subset=['actual_price'])\n",
    "    \n",
    "    return df"
   ]
  },
  {
   "cell_type": "code",
   "execution_count": null,
   "id": "cd4d26d0",
   "metadata": {
    "ExecuteTime": {
     "end_time": "2023-10-21T20:25:39.835686Z",
     "start_time": "2023-10-21T20:25:39.821041Z"
    }
   },
   "outputs": [],
   "source": [
    "def pipeline (df):\n",
    "    df = limpeza(df)\n",
    "    df = feature_engen(df)\n",
    "    \n",
    "    product_details = df['product_details'].apply(lambda x: f(x))\n",
    "    product_details = pd.DataFrame([junta_dict(row) for row in product_details])\n",
    "    \n",
    "    return df, product_details\n"
   ]
  },
  {
   "cell_type": "code",
   "execution_count": null,
   "id": "6b5fb9b5",
   "metadata": {
    "ExecuteTime": {
     "end_time": "2023-10-21T20:25:39.850909Z",
     "start_time": "2023-10-21T20:25:39.836699Z"
    }
   },
   "outputs": [],
   "source": [
    "def test_preparation(df):\n",
    "    X_test = rescalling(X_test)\n",
    "    X_test = transform(X_test)\n",
    "    y_test = log_var_resposta(y_test)\n",
    "    \n",
    "    return X_test"
   ]
  },
  {
   "cell_type": "code",
   "execution_count": null,
   "id": "8f3f567b",
   "metadata": {
    "ExecuteTime": {
     "end_time": "2023-10-21T20:25:39.865991Z",
     "start_time": "2023-10-21T20:25:39.851901Z"
    }
   },
   "outputs": [],
   "source": [
    "# '_id'\n",
    "# 'average_rating':         muitos outliers mas distribuição proxima da normal\n",
    "#                           tratar notas que não possuem avaliação\n",
    "# 'number_of_reviews':      muitos outliers mas distribuição proxima da normal\n",
    "#                           ver como fica a distribuição como log\n",
    "# 'brand':                  12 categorias frequency -> transformar tudo em minusculo para evitar duplicações\n",
    "# 'category':               Uma categoria é mais majoritária \n",
    "#                           unir com a subcategory fazendo o tratamento de maiusculas\n",
    "# 'crawled_at':             Somente 1 dia, muda somente a hora -> retirar XXXXX\n",
    "# 'out_of_stock':           Dummie enconde (somente 0 ou 1) -> One hot encode\n",
    "# 'avg_delivery_time_days': sem outliers e distribuição normal -> min max scaler\n",
    "# 'pid':                    valore duplicatidos, muitas labels -> usar para preencher valores nulos no price mas não vai para o modelo\n",
    "# 'seller':                 Reunir undefined em \"outros\" e usar o frequency encode\n",
    "# 'sub_category':           Unir com o 'category'\n",
    "# 'fabrication_time':       sem outliers, distribuição uniforme -> min max scaler\n",
    "# 'title':                  muitas categorias, sem concentrações -> frequency \n",
    "#                           explorar mais o title\n",
    "#                           deletar nesse momento\n",
    "# 'actual_price':           transformar em escala log"
   ]
  }
 ],
 "metadata": {
  "kernelspec": {
   "display_name": "Python 3 (ipykernel)",
   "language": "python",
   "name": "python3"
  },
  "language_info": {
   "codemirror_mode": {
    "name": "ipython",
    "version": 3
   },
   "file_extension": ".py",
   "mimetype": "text/x-python",
   "name": "python",
   "nbconvert_exporter": "python",
   "pygments_lexer": "ipython3",
   "version": "3.11.5"
  },
  "toc": {
   "base_numbering": 1,
   "nav_menu": {},
   "number_sections": true,
   "sideBar": true,
   "skip_h1_title": false,
   "title_cell": "Table of Contents",
   "title_sidebar": "Contents",
   "toc_cell": false,
   "toc_position": {
    "height": "calc(100% - 180px)",
    "left": "10px",
    "top": "150px",
    "width": "345.966px"
   },
   "toc_section_display": true,
   "toc_window_display": true
  },
  "varInspector": {
   "cols": {
    "lenName": 16,
    "lenType": 16,
    "lenVar": 40
   },
   "kernels_config": {
    "python": {
     "delete_cmd_postfix": "",
     "delete_cmd_prefix": "del ",
     "library": "var_list.py",
     "varRefreshCmd": "print(var_dic_list())"
    },
    "r": {
     "delete_cmd_postfix": ") ",
     "delete_cmd_prefix": "rm(",
     "library": "var_list.r",
     "varRefreshCmd": "cat(var_dic_list()) "
    }
   },
   "types_to_exclude": [
    "module",
    "function",
    "builtin_function_or_method",
    "instance",
    "_Feature"
   ],
   "window_display": false
  },
  "vscode": {
   "interpreter": {
    "hash": "892e5ff5783333d733f0bd2e0068297de9409e96214f7e68af4469f351f76fae"
   }
  }
 },
 "nbformat": 4,
 "nbformat_minor": 5
}
